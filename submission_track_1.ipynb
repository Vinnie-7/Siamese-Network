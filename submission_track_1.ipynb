{
  "metadata": {
    "kernelspec": {
      "language": "python",
      "display_name": "Python 3",
      "name": "python3"
    },
    "language_info": {
      "name": "python",
      "version": "3.10.14",
      "mimetype": "text/x-python",
      "codemirror_mode": {
        "name": "ipython",
        "version": 3
      },
      "pygments_lexer": "ipython3",
      "nbconvert_exporter": "python",
      "file_extension": ".py"
    },
    "kaggle": {
      "accelerator": "nvidiaTeslaT4",
      "dataSources": [
        {
          "sourceId": 84417,
          "databundleVersionId": 9459410,
          "sourceType": "competition"
        }
      ],
      "dockerImageVersionId": 30776,
      "isInternetEnabled": true,
      "language": "python",
      "sourceType": "notebook",
      "isGpuEnabled": true
    },
    "colab": {
      "provenance": []
    }
  },
  "nbformat_minor": 0,
  "nbformat": 4,
  "cells": [
    {
      "cell_type": "code",
      "source": [
        "pip install imutils"
      ],
      "metadata": {
        "execution": {
          "iopub.status.busy": "2024-10-04T12:20:15.946325Z",
          "iopub.execute_input": "2024-10-04T12:20:15.947203Z",
          "iopub.status.idle": "2024-10-04T12:20:31.882588Z",
          "shell.execute_reply.started": "2024-10-04T12:20:15.947155Z",
          "shell.execute_reply": "2024-10-04T12:20:31.881370Z"
        },
        "trusted": true,
        "id": "euf8epwtf3Gm",
        "outputId": "a284d4ad-eb7b-42bf-8236-b5e2851cb822"
      },
      "execution_count": null,
      "outputs": [
        {
          "name": "stdout",
          "text": "Collecting imutils\n  Downloading imutils-0.5.4.tar.gz (17 kB)\n  Preparing metadata (setup.py) ... \u001b[?25ldone\n\u001b[?25hBuilding wheels for collected packages: imutils\n  Building wheel for imutils (setup.py) ... \u001b[?25ldone\n\u001b[?25h  Created wheel for imutils: filename=imutils-0.5.4-py3-none-any.whl size=25837 sha256=ccdaac82cc68072127ffcc69451dbdcbd3e75c49c3681926e355cae9302c521e\n  Stored in directory: /root/.cache/pip/wheels/85/cf/3a/e265e975a1e7c7e54eb3692d6aa4e2e7d6a3945d29da46f2d7\nSuccessfully built imutils\nInstalling collected packages: imutils\nSuccessfully installed imutils-0.5.4\nNote: you may need to restart the kernel to use updated packages.\n",
          "output_type": "stream"
        }
      ]
    },
    {
      "cell_type": "code",
      "source": [
        "import torch\n",
        "import random\n",
        "import pandas as pd\n",
        "import numpy as np\n",
        "seed = 42\n",
        "torch.manual_seed(seed)\n",
        "torch.cuda.manual_seed(seed)\n",
        "torch.cuda.manual_seed_all(seed)\n",
        "np.random.seed(seed)\n",
        "random.seed(seed)"
      ],
      "metadata": {
        "execution": {
          "iopub.status.busy": "2024-10-04T12:20:31.884478Z",
          "iopub.execute_input": "2024-10-04T12:20:31.884812Z",
          "iopub.status.idle": "2024-10-04T12:20:36.221240Z",
          "shell.execute_reply.started": "2024-10-04T12:20:31.884777Z",
          "shell.execute_reply": "2024-10-04T12:20:36.220179Z"
        },
        "trusted": true,
        "id": "fOMjSUD3f3Go"
      },
      "execution_count": null,
      "outputs": []
    },
    {
      "cell_type": "code",
      "source": [
        "from tensorflow.keras.datasets import mnist\n",
        "from imutils import build_montages\n",
        "import numpy as np\n",
        "import cv2"
      ],
      "metadata": {
        "execution": {
          "iopub.status.busy": "2024-10-04T12:20:36.222659Z",
          "iopub.execute_input": "2024-10-04T12:20:36.223228Z",
          "iopub.status.idle": "2024-10-04T12:20:50.348413Z",
          "shell.execute_reply.started": "2024-10-04T12:20:36.223179Z",
          "shell.execute_reply": "2024-10-04T12:20:50.347324Z"
        },
        "trusted": true,
        "id": "jKo7Z-JWf3Gr"
      },
      "execution_count": null,
      "outputs": []
    },
    {
      "cell_type": "markdown",
      "source": [
        "### Generating Siamese Pairs"
      ],
      "metadata": {
        "id": "KUqNo7oJf3Gs"
      }
    },
    {
      "cell_type": "code",
      "source": [
        "import os\n",
        "import random\n",
        "from itertools import combinations\n",
        "from typing import List, Tuple\n",
        "\n",
        "def generate_siamese_pairs(base_path: str, labels: List[int], num_pairs: int) -> List[Tuple[str, str, int]]:\n",
        "    pairs = []\n",
        "\n",
        "    label_images = {label: [] for label in labels}\n",
        "    for label in labels:\n",
        "        label_path = os.path.join(base_path, str(label))\n",
        "        label_images[label] = [os.path.join(label_path, img) for img in os.listdir(label_path) if img.endswith(('.png', '.jpg', '.jpeg'))]\n",
        "\n",
        "    #POSITIVE\n",
        "    for label in labels:\n",
        "        images = label_images[label]\n",
        "        positive_pairs = list(combinations(images, 2))\n",
        "        pairs.extend((img1, img2, 0) for img1, img2 in random.sample(positive_pairs, min(len(positive_pairs), num_pairs // (2 * len(labels)))))\n",
        "\n",
        "    #NEGATIVE\n",
        "    negative_pairs_count = num_pairs - len(pairs)\n",
        "    while len(pairs) < num_pairs:\n",
        "        label1, label2 = random.sample(labels, 2)\n",
        "        img1 = random.choice(label_images[label1])\n",
        "        img2 = random.choice(label_images[label2])\n",
        "        pairs.append((img1, img2, 1))\n",
        "\n",
        "    return random.sample(pairs, num_pairs)\n"
      ],
      "metadata": {
        "execution": {
          "iopub.status.busy": "2024-10-04T12:20:50.350589Z",
          "iopub.execute_input": "2024-10-04T12:20:50.351191Z",
          "iopub.status.idle": "2024-10-04T12:20:50.361207Z",
          "shell.execute_reply.started": "2024-10-04T12:20:50.351156Z",
          "shell.execute_reply": "2024-10-04T12:20:50.360033Z"
        },
        "trusted": true,
        "id": "pJVTGGMFf3Gu"
      },
      "execution_count": null,
      "outputs": []
    },
    {
      "cell_type": "markdown",
      "source": [
        "### Function to extract frames from video"
      ],
      "metadata": {
        "id": "F_L21b57f3Gv"
      }
    },
    {
      "cell_type": "code",
      "source": [
        "def extract_frames_from_video(video_path, output_folder, frame_rate=5):\n",
        "    if not os.path.exists(output_folder):\n",
        "        os.makedirs(output_folder)\n",
        "\n",
        "    video = cv2.VideoCapture(video_path)\n",
        "    frame_count = 0\n",
        "    saved_frame_count = 0\n",
        "    success, image = video.read()\n",
        "\n",
        "    while success:\n",
        "        if frame_count % frame_rate == 0:\n",
        "            frame_name = os.path.join(output_folder, f\"{os.path.basename(video_path).split('.')[0]}_frame_{saved_frame_count}.jpg\")\n",
        "            cv2.imwrite(frame_name, image)\n",
        "            saved_frame_count += 1\n",
        "\n",
        "        success, image = video.read()\n",
        "        frame_count += 1\n",
        "\n",
        "    video.release()\n",
        "    print(f\"Processed {os.path.basename(video_path)}: {saved_frame_count} frames saved.\")\n",
        "\n",
        "video_folder = '/kaggle/input/few-shot-video-classification/Few Shot video classification/Train/football'\n",
        "output_folder = '/kaggle/working/extracted_frames/4'\n",
        "\n",
        "for video_file in os.listdir(video_folder):\n",
        "    if video_file.endswith('.mp4'):\n",
        "        video_path = os.path.join(video_folder, video_file)\n",
        "        extract_frames_from_video(video_path, output_folder)\n"
      ],
      "metadata": {
        "execution": {
          "iopub.status.busy": "2024-10-04T12:20:50.362785Z",
          "iopub.execute_input": "2024-10-04T12:20:50.363081Z",
          "iopub.status.idle": "2024-10-04T12:21:27.841379Z",
          "shell.execute_reply.started": "2024-10-04T12:20:50.363049Z",
          "shell.execute_reply": "2024-10-04T12:21:27.840418Z"
        },
        "trusted": true,
        "id": "SZZl-O4of3Gw",
        "outputId": "89f604ae-f6a8-423c-9e24-179de83441b1"
      },
      "execution_count": null,
      "outputs": [
        {
          "name": "stdout",
          "text": "Processed 24_ftbl.mp4: 76 frames saved.\nProcessed 12_ftbl.mp4: 92 frames saved.\nProcessed 23_ftbl.mp4: 75 frames saved.\nProcessed 02_ftbl.mp4: 92 frames saved.\nProcessed 16_ftbl.mp4: 87 frames saved.\nProcessed 21_ftbl.mp4: 73 frames saved.\nProcessed 22_ftbl.mp4: 72 frames saved.\nProcessed 11_ftbl.mp4: 90 frames saved.\nProcessed 25_ftbl.mp4: 74 frames saved.\nProcessed 18_ftbl.mp4: 91 frames saved.\nProcessed 17_ftbl.mp4: 91 frames saved.\nProcessed 15_ftbl.mp4: 91 frames saved.\nProcessed 26_ftbl.mp4: 75 frames saved.\nProcessed 20_ftbl.mp4: 77 frames saved.\nProcessed 08_ftbl.mp4: 87 frames saved.\nProcessed 10_ftbl.mp4: 85 frames saved.\nProcessed 14_ftbl.mp4: 84 frames saved.\nProcessed 09_ftbl.mp4: 83 frames saved.\nProcessed 13_ftbl.mp4: 87 frames saved.\nProcessed 07_ftbl.mp4: 86 frames saved.\nProcessed 19_ftbl.mp4: 78 frames saved.\nProcessed 28_ftbl.mp4: 89 frames saved.\nProcessed 04_ftbl.mp4: 87 frames saved.\nProcessed 06_ftbl.mp4: 90 frames saved.\nProcessed 01_ftbl.mp4: 90 frames saved.\nProcessed 27_ftbl.mp4: 92 frames saved.\nProcessed 29_ftbl.mp4: 93 frames saved.\nProcessed 30_ftbl.mp4: 95 frames saved.\nProcessed 05_ftbl.mp4: 90 frames saved.\nProcessed 03_ftbl.mp4: 93 frames saved.\n",
          "output_type": "stream"
        }
      ]
    },
    {
      "cell_type": "code",
      "source": [
        "video_folder = '/kaggle/input/few-shot-video-classification/Few Shot video classification/Train/judo'\n",
        "output_folder = '/kaggle/working/extracted_frames/5'\n",
        "\n",
        "for video_file in os.listdir(video_folder):\n",
        "    if video_file.endswith('.mp4'):\n",
        "        video_path = os.path.join(video_folder, video_file)\n",
        "        extract_frames_from_video(video_path, output_folder)"
      ],
      "metadata": {
        "execution": {
          "iopub.status.busy": "2024-10-04T12:22:35.161833Z",
          "iopub.execute_input": "2024-10-04T12:22:35.162550Z",
          "iopub.status.idle": "2024-10-04T12:23:04.323960Z",
          "shell.execute_reply.started": "2024-10-04T12:22:35.162509Z",
          "shell.execute_reply": "2024-10-04T12:23:04.322939Z"
        },
        "trusted": true,
        "id": "nKUCVqKKf3Gx",
        "outputId": "a717ecf6-06a0-405f-d8b7-e32ac5b7b45f"
      },
      "execution_count": null,
      "outputs": [
        {
          "name": "stdout",
          "text": "Processed judo_sample_3.mp4: 75 frames saved.\nProcessed judo_sample_1.mp4: 76 frames saved.\nProcessed judo_sample_7.mp4: 75 frames saved.\nProcessed judo_sample_8.mp4: 75 frames saved.\nProcessed judo_sample_0.mp4: 75 frames saved.\nProcessed judo_sample_33.mp4: 75 frames saved.\nProcessed judo_sample_20.mp4: 75 frames saved.\nProcessed judo_sample_6.mp4: 75 frames saved.\nProcessed judo_sample_5.mp4: 75 frames saved.\nProcessed judo_sample_15.mp4: 75 frames saved.\nProcessed judo_sample_29.mp4: 75 frames saved.\nProcessed judo_sample_34.mp4: 75 frames saved.\nProcessed judo_sample_19.mp4: 75 frames saved.\nProcessed judo_sample_22.mp4: 75 frames saved.\nProcessed judo_sample_14.mp4: 75 frames saved.\nProcessed judo_sample_11.mp4: 75 frames saved.\nProcessed judo_sample_4.mp4: 75 frames saved.\nProcessed judo_sample_31.mp4: 75 frames saved.\nProcessed judo_sample_18.mp4: 75 frames saved.\nProcessed judo_sample_12.mp4: 75 frames saved.\nProcessed judo_sample_9.mp4: 75 frames saved.\nProcessed judo_sample_26.mp4: 75 frames saved.\nProcessed judo_sample_17.mp4: 75 frames saved.\nProcessed judo_sample_25.mp4: 75 frames saved.\nProcessed judo_sample_10.mp4: 75 frames saved.\nProcessed judo_sample_35.mp4: 75 frames saved.\nProcessed judo_sample_23.mp4: 75 frames saved.\nProcessed judo_sample_30.mp4: 75 frames saved.\nProcessed judo_sample_36.mp4: 75 frames saved.\nProcessed judo_sample_27.mp4: 75 frames saved.\nProcessed judo_sample_32.mp4: 75 frames saved.\nProcessed judo_sample_37.mp4: 75 frames saved.\nProcessed judo_sample_21.mp4: 75 frames saved.\nProcessed judo_sample_13.mp4: 75 frames saved.\nProcessed judo_sample_2.mp4: 75 frames saved.\nProcessed judo_sample_28.mp4: 75 frames saved.\nProcessed judo_sample_16.mp4: 75 frames saved.\nProcessed judo_sample_24.mp4: 75 frames saved.\n",
          "output_type": "stream"
        }
      ]
    },
    {
      "cell_type": "code",
      "source": [
        "\n",
        "video_folder = '/kaggle/input/few-shot-video-classification/Few Shot video classification/Train/rugby'\n",
        "output_folder = '/kaggle/working/extracted_frames/6'\n",
        "\n",
        "for video_file in os.listdir(video_folder):\n",
        "    if video_file.endswith('.mp4'):\n",
        "        video_path = os.path.join(video_folder, video_file)\n",
        "        extract_frames_from_video(video_path, output_folder)\n"
      ],
      "metadata": {
        "execution": {
          "iopub.status.busy": "2024-10-04T12:23:04.325735Z",
          "iopub.execute_input": "2024-10-04T12:23:04.326083Z",
          "iopub.status.idle": "2024-10-04T12:23:15.320907Z",
          "shell.execute_reply.started": "2024-10-04T12:23:04.326048Z",
          "shell.execute_reply": "2024-10-04T12:23:15.319851Z"
        },
        "trusted": true,
        "id": "MRPFqi3mf3Gx",
        "outputId": "1ddea87c-5e22-4ca5-dd0d-975533c149e1"
      },
      "execution_count": null,
      "outputs": [
        {
          "name": "stdout",
          "text": "Processed Clip 14.mp4: 102 frames saved.\nProcessed Clip 15.mp4: 90 frames saved.\nProcessed Clip 27.mp4: 96 frames saved.\nProcessed Clip 11.mp4: 99 frames saved.\nProcessed Clip 23.mp4: 101 frames saved.\nProcessed Clip 30.mp4: 93 frames saved.\nProcessed Clip 21.mp4: 87 frames saved.\nProcessed Clip 2.mp4: 95 frames saved.\nProcessed Clip 25.mp4: 108 frames saved.\nProcessed Clip 20.mp4: 102 frames saved.\nProcessed Clip 28.mp4: 101 frames saved.\nProcessed Clip 29.mp4: 98 frames saved.\nProcessed Clip 17.mp4: 94 frames saved.\nProcessed Clip 13.mp4: 95 frames saved.\nProcessed Clip 10.mp4: 95 frames saved.\nProcessed Clip 16.mp4: 90 frames saved.\nProcessed Clip 6.mp4: 96 frames saved.\nProcessed Clip 12.mp4: 85 frames saved.\nProcessed Clip 9.mp4: 92 frames saved.\nProcessed Clip 19.mp4: 83 frames saved.\nProcessed Clip 3.mp4: 96 frames saved.\nProcessed Clip 18.mp4: 93 frames saved.\nProcessed Clip 4.mp4: 92 frames saved.\nProcessed Clip 5.mp4: 95 frames saved.\nProcessed Clip 7.mp4: 81 frames saved.\nProcessed Clip 1.mp4: 97 frames saved.\nProcessed Clip 26.mp4: 98 frames saved.\nProcessed Clip 22.mp4: 89 frames saved.\nProcessed Clip 24.mp4: 78 frames saved.\nProcessed Clip 8.mp4: 116 frames saved.\n",
          "output_type": "stream"
        }
      ]
    },
    {
      "cell_type": "code",
      "source": [
        "video_folder = '/kaggle/input/few-shot-video-classification/Few Shot video classification/Train/squash'\n",
        "output_folder = '/kaggle/working/extracted_frames/7'\n",
        "\n",
        "for video_file in os.listdir(video_folder):\n",
        "    if video_file.endswith('.mp4'):\n",
        "        video_path = os.path.join(video_folder, video_file)\n",
        "        extract_frames_from_video(video_path, output_folder)"
      ],
      "metadata": {
        "execution": {
          "iopub.status.busy": "2024-10-04T12:23:15.322084Z",
          "iopub.execute_input": "2024-10-04T12:23:15.322405Z",
          "iopub.status.idle": "2024-10-04T12:23:47.073501Z",
          "shell.execute_reply.started": "2024-10-04T12:23:15.322369Z",
          "shell.execute_reply": "2024-10-04T12:23:47.072406Z"
        },
        "trusted": true,
        "id": "UqBi8u9lf3Gy",
        "outputId": "b89bf6f0-9266-4cba-b89b-ed6ebd56fbdb"
      },
      "execution_count": null,
      "outputs": [
        {
          "name": "stdout",
          "text": "Processed Clip 14.mp4: 75 frames saved.\nProcessed Clip 15.mp4: 75 frames saved.\nProcessed Clip 27.mp4: 75 frames saved.\nProcessed Clip 11.mp4: 75 frames saved.\nProcessed Clip 23.mp4: 150 frames saved.\nProcessed Clip 30.mp4: 75 frames saved.\nProcessed Clip 21.mp4: 90 frames saved.\nProcessed Clip 2.mp4: 75 frames saved.\nProcessed Clip 25.mp4: 75 frames saved.\nProcessed Clip 20.mp4: 150 frames saved.\nProcessed Clip 28.mp4: 150 frames saved.\nProcessed Clip 29.mp4: 75 frames saved.\nProcessed Clip 17.mp4: 75 frames saved.\nProcessed Clip 13.mp4: 150 frames saved.\nProcessed Clip 10.mp4: 90 frames saved.\nProcessed Clip 16.mp4: 75 frames saved.\nProcessed Clip 6.mp4: 90 frames saved.\nProcessed Clip 12.mp4: 75 frames saved.\nProcessed Clip 9.mp4: 150 frames saved.\nProcessed Clip 19.mp4: 90 frames saved.\nProcessed Clip 3.mp4: 75 frames saved.\nProcessed Clip 18.mp4: 75 frames saved.\nProcessed Clip 4.mp4: 75 frames saved.\nProcessed Clip 5.mp4: 150 frames saved.\nProcessed Clip 7.mp4: 150 frames saved.\nProcessed Clip 1.mp4: 75 frames saved.\nProcessed Clip 26.mp4: 75 frames saved.\nProcessed Clip 22.mp4: 75 frames saved.\nProcessed Clip 24.mp4: 75 frames saved.\nProcessed Clip 8.mp4: 90 frames saved.\n",
          "output_type": "stream"
        }
      ]
    },
    {
      "cell_type": "code",
      "source": [
        "video_folder = '/kaggle/input/few-shot-video-classification/Few Shot video classification/Train/wrestling'\n",
        "output_folder = '/kaggle/working/extracted_frames/8'\n",
        "\n",
        "for video_file in os.listdir(video_folder):\n",
        "    if video_file.endswith('.mp4'):\n",
        "        video_path = os.path.join(video_folder, video_file)\n",
        "        extract_frames_from_video(video_path, output_folder)"
      ],
      "metadata": {
        "execution": {
          "iopub.status.busy": "2024-10-04T12:23:47.075844Z",
          "iopub.execute_input": "2024-10-04T12:23:47.076189Z",
          "iopub.status.idle": "2024-10-04T12:24:20.886444Z",
          "shell.execute_reply.started": "2024-10-04T12:23:47.076154Z",
          "shell.execute_reply": "2024-10-04T12:24:20.885263Z"
        },
        "trusted": true,
        "id": "N-WQU9n9f3Gz",
        "outputId": "721b9a4a-08f5-41ef-bb7a-f88b4326f39c"
      },
      "execution_count": null,
      "outputs": [
        {
          "name": "stdout",
          "text": "Processed Clip 14.mp4: 32 frames saved.\nProcessed Clip 15.mp4: 32 frames saved.\nProcessed Clip 27.mp4: 33 frames saved.\nProcessed Clip 11.mp4: 32 frames saved.\nProcessed Clip 23.mp4: 34 frames saved.\nProcessed Clip 30.mp4: 33 frames saved.\nProcessed Clip 21.mp4: 32 frames saved.\nProcessed Clip 2.mp4: 32 frames saved.\nProcessed Clip 25.mp4: 33 frames saved.\nProcessed Clip 20.mp4: 32 frames saved.\nProcessed Clip 28.mp4: 35 frames saved.\nProcessed Clip 29.mp4: 38 frames saved.\nProcessed Clip 17.mp4: 33 frames saved.\nProcessed Clip 13.mp4: 20 frames saved.\nProcessed Clip 10.mp4: 32 frames saved.\nProcessed Clip 16.mp4: 32 frames saved.\nProcessed Clip 6.mp4: 32 frames saved.\nProcessed Clip 12.mp4: 32 frames saved.\nProcessed Clip 9.mp4: 32 frames saved.\nProcessed Clip 19.mp4: 32 frames saved.\nProcessed Clip 3.mp4: 35 frames saved.\nProcessed Clip 18.mp4: 33 frames saved.\nProcessed Clip 4.mp4: 34 frames saved.\nProcessed Clip 5.mp4: 33 frames saved.\nProcessed Clip 7.mp4: 33 frames saved.\nProcessed Clip 1.mp4: 33 frames saved.\nProcessed Clip 26.mp4: 33 frames saved.\nProcessed Clip 22.mp4: 32 frames saved.\nProcessed Clip 24.mp4: 32 frames saved.\nProcessed Clip 8.mp4: 32 frames saved.\n",
          "output_type": "stream"
        }
      ]
    },
    {
      "cell_type": "code",
      "source": [
        "base_path = \"/kaggle/working/extracted_frames\"\n",
        "labels = list(range(4, 9))\n",
        "num_pairs = 10000\n",
        "\n",
        "pairs = generate_siamese_pairs(base_path, labels, num_pairs)\n",
        "\n",
        "for i, (img1, img2, label) in enumerate(pairs[:15]):\n",
        "    print(f\"Pair {i+1}: {img1} - {img2} (Label: {label})\")"
      ],
      "metadata": {
        "execution": {
          "iopub.status.busy": "2024-10-04T12:24:20.887643Z",
          "iopub.execute_input": "2024-10-04T12:24:20.887998Z",
          "iopub.status.idle": "2024-10-04T12:24:23.373788Z",
          "shell.execute_reply.started": "2024-10-04T12:24:20.887964Z",
          "shell.execute_reply": "2024-10-04T12:24:23.372771Z"
        },
        "trusted": true,
        "id": "xYULk-X0f3Gz",
        "outputId": "35a6a481-0885-44e0-b38f-e236f381ca76"
      },
      "execution_count": null,
      "outputs": [
        {
          "name": "stdout",
          "text": "Pair 1: /kaggle/working/extracted_frames/6/Clip 28_frame_8.jpg - /kaggle/working/extracted_frames/7/Clip 6_frame_83.jpg (Label: 1)\nPair 2: /kaggle/working/extracted_frames/8/Clip 6_frame_8.jpg - /kaggle/working/extracted_frames/8/Clip 30_frame_17.jpg (Label: 0)\nPair 3: /kaggle/working/extracted_frames/7/Clip 15_frame_74.jpg - /kaggle/working/extracted_frames/6/Clip 24_frame_49.jpg (Label: 1)\nPair 4: /kaggle/working/extracted_frames/7/Clip 2_frame_4.jpg - /kaggle/working/extracted_frames/6/Clip 30_frame_91.jpg (Label: 1)\nPair 5: /kaggle/working/extracted_frames/8/Clip 21_frame_24.jpg - /kaggle/working/extracted_frames/7/Clip 9_frame_0.jpg (Label: 1)\nPair 6: /kaggle/working/extracted_frames/6/Clip 1_frame_79.jpg - /kaggle/working/extracted_frames/8/Clip 20_frame_6.jpg (Label: 1)\nPair 7: /kaggle/working/extracted_frames/5/judo_sample_5_frame_46.jpg - /kaggle/working/extracted_frames/8/Clip 8_frame_19.jpg (Label: 1)\nPair 8: /kaggle/working/extracted_frames/8/Clip 29_frame_6.jpg - /kaggle/working/extracted_frames/4/11_ftbl_frame_33.jpg (Label: 1)\nPair 9: /kaggle/working/extracted_frames/6/Clip 5_frame_18.jpg - /kaggle/working/extracted_frames/6/Clip 9_frame_7.jpg (Label: 0)\nPair 10: /kaggle/working/extracted_frames/6/Clip 6_frame_37.jpg - /kaggle/working/extracted_frames/6/Clip 5_frame_8.jpg (Label: 0)\nPair 11: /kaggle/working/extracted_frames/8/Clip 24_frame_9.jpg - /kaggle/working/extracted_frames/6/Clip 23_frame_40.jpg (Label: 1)\nPair 12: /kaggle/working/extracted_frames/8/Clip 4_frame_25.jpg - /kaggle/working/extracted_frames/5/judo_sample_5_frame_8.jpg (Label: 1)\nPair 13: /kaggle/working/extracted_frames/6/Clip 8_frame_96.jpg - /kaggle/working/extracted_frames/6/Clip 8_frame_21.jpg (Label: 0)\nPair 14: /kaggle/working/extracted_frames/6/Clip 29_frame_7.jpg - /kaggle/working/extracted_frames/7/Clip 16_frame_70.jpg (Label: 1)\nPair 15: /kaggle/working/extracted_frames/6/Clip 18_frame_92.jpg - /kaggle/working/extracted_frames/6/Clip 9_frame_41.jpg (Label: 0)\n",
          "output_type": "stream"
        }
      ]
    },
    {
      "cell_type": "code",
      "source": [
        "import torch\n",
        "import torch.nn as nn\n",
        "import torch.optim as optim\n",
        "import torch.nn.functional as F\n",
        "from torch.utils.data import Dataset, DataLoader\n",
        "from torchvision import transforms\n",
        "from PIL import Image"
      ],
      "metadata": {
        "execution": {
          "iopub.status.busy": "2024-10-04T12:24:23.375070Z",
          "iopub.execute_input": "2024-10-04T12:24:23.375950Z",
          "iopub.status.idle": "2024-10-04T12:24:25.132099Z",
          "shell.execute_reply.started": "2024-10-04T12:24:23.375900Z",
          "shell.execute_reply": "2024-10-04T12:24:25.131087Z"
        },
        "trusted": true,
        "id": "qYPfvdEbf3G0"
      },
      "execution_count": null,
      "outputs": []
    },
    {
      "cell_type": "code",
      "source": [
        "class SiameseNetwork(nn.Module):\n",
        "    def __init__(self):\n",
        "        super(SiameseNetwork, self).__init__()\n",
        "        self.conv = nn.Sequential(\n",
        "            nn.Conv2d(3, 64, 10),  # Output: 64 x 91 x 91\n",
        "            nn.ReLU(inplace=True),\n",
        "            nn.MaxPool2d(2),  # Output: 64 x 45 x 45\n",
        "            nn.Conv2d(64, 128, 7),  # Output: 128 x 39 x 39\n",
        "            nn.ReLU(inplace=True),\n",
        "            nn.MaxPool2d(2),  # Output: 128 x 19 x 19\n",
        "            nn.Conv2d(128, 128, 4),  # Output: 128 x 16 x 16\n",
        "            nn.ReLU(inplace=True),\n",
        "            nn.MaxPool2d(2),  # Output: 128 x 8 x 8\n",
        "            nn.Conv2d(128, 256, 4),  # Output: 256 x 5 x 5\n",
        "            nn.ReLU(inplace=True),\n",
        "        )\n",
        "        self.fc = nn.Sequential(\n",
        "            nn.Linear(256 * 5 * 5, 4096),\n",
        "            nn.Sigmoid()\n",
        "        )\n",
        "\n",
        "    def forward_one(self, x):\n",
        "        x = self.conv(x)\n",
        "        x = x.view(x.size()[0], -1)\n",
        "        x = self.fc(x)\n",
        "        return x\n",
        "\n",
        "    def forward(self, x1, x2):\n",
        "        out1 = self.forward_one(x1)\n",
        "        out2 = self.forward_one(x2)\n",
        "        return out1, out2"
      ],
      "metadata": {
        "execution": {
          "iopub.status.busy": "2024-10-04T12:24:25.133539Z",
          "iopub.execute_input": "2024-10-04T12:24:25.134276Z",
          "iopub.status.idle": "2024-10-04T12:24:25.144104Z",
          "shell.execute_reply.started": "2024-10-04T12:24:25.134230Z",
          "shell.execute_reply": "2024-10-04T12:24:25.143171Z"
        },
        "trusted": true,
        "id": "h3e_Ld9tf3G0"
      },
      "execution_count": null,
      "outputs": []
    },
    {
      "cell_type": "code",
      "source": [
        "class SiameseDataset(Dataset):\n",
        "    def __init__(self, pairs, transform=None):\n",
        "        self.pairs = pairs\n",
        "        self.transform = transform\n",
        "\n",
        "    def __len__(self):\n",
        "        return len(self.pairs)\n",
        "\n",
        "    def __getitem__(self, idx):\n",
        "        img1_path, img2_path, label = self.pairs[idx]\n",
        "        img1 = Image.open(img1_path).convert(\"RGB\")\n",
        "        img2 = Image.open(img2_path).convert(\"RGB\")\n",
        "\n",
        "        if self.transform:\n",
        "            img1 = self.transform(img1)\n",
        "            img2 = self.transform(img2)\n",
        "\n",
        "        return img1, img2, torch.FloatTensor([label])"
      ],
      "metadata": {
        "execution": {
          "iopub.status.busy": "2024-10-04T12:24:25.145555Z",
          "iopub.execute_input": "2024-10-04T12:24:25.146227Z",
          "iopub.status.idle": "2024-10-04T12:24:25.160045Z",
          "shell.execute_reply.started": "2024-10-04T12:24:25.146181Z",
          "shell.execute_reply": "2024-10-04T12:24:25.159150Z"
        },
        "trusted": true,
        "id": "9UYtzkDxf3G0"
      },
      "execution_count": null,
      "outputs": []
    },
    {
      "cell_type": "code",
      "source": [
        "class ContrastiveLoss(nn.Module):\n",
        "    def __init__(self, margin=2.0):\n",
        "        super(ContrastiveLoss, self).__init__()\n",
        "        self.margin = margin\n",
        "\n",
        "    def forward(self, output1, output2, label):\n",
        "        euclidean_distance = F.pairwise_distance(output1, output2)\n",
        "        loss_contrastive = torch.mean((1-label) * torch.pow(euclidean_distance, 2) +\n",
        "                                      (label) * torch.pow(torch.clamp(self.margin - euclidean_distance, min=0.0), 2))\n",
        "        return loss_contrastive"
      ],
      "metadata": {
        "execution": {
          "iopub.status.busy": "2024-10-04T12:24:25.161205Z",
          "iopub.execute_input": "2024-10-04T12:24:25.161575Z",
          "iopub.status.idle": "2024-10-04T12:24:25.172425Z",
          "shell.execute_reply.started": "2024-10-04T12:24:25.161533Z",
          "shell.execute_reply": "2024-10-04T12:24:25.171524Z"
        },
        "trusted": true,
        "id": "oAeY7aBPf3G1"
      },
      "execution_count": null,
      "outputs": []
    },
    {
      "cell_type": "code",
      "source": [
        "import matplotlib.pyplot as plt\n",
        "\n",
        "def train_siamese_network(model, train_loader, num_epochs=20):\n",
        "    device = torch.device(\"cuda\" if torch.cuda.is_available() else \"cpu\")\n",
        "    model = model.to(device)\n",
        "    criterion = ContrastiveLoss()\n",
        "    optimizer = optim.Adam(model.parameters(), lr=0.0001)\n",
        "\n",
        "    scheduler = torch.optim.lr_scheduler.ReduceLROnPlateau(optimizer, mode='min', patience=2, factor=0.5)\n",
        "\n",
        "\n",
        "    train_losses = []\n",
        "\n",
        "    for epoch in range(num_epochs):\n",
        "        epoch_loss = 0\n",
        "        for i, (img1, img2, label) in enumerate(train_loader):\n",
        "            img1, img2, label = img1.to(device), img2.to(device), label.to(device)\n",
        "            optimizer.zero_grad()\n",
        "            output1, output2 = model(img1, img2)\n",
        "            loss = criterion(output1, output2, label)\n",
        "            loss.backward()\n",
        "            optimizer.step()\n",
        "\n",
        "            epoch_loss += loss.item()\n",
        "\n",
        "        avg_loss = epoch_loss / len(train_loader)\n",
        "        train_losses.append(avg_loss)\n",
        "        print(f\"Epoch [{epoch + 1}/{num_epochs}], Loss: {avg_loss:.4f}\")\n",
        "\n",
        "        scheduler.step(avg_loss)\n",
        "\n",
        "        current_lr = scheduler.optimizer.param_groups[0]['lr']\n",
        "        print(f\"Learning rate after epoch {epoch + 1}: {current_lr:.6f}\")\n",
        "\n",
        "    plt.figure(figsize=(10, 5))\n",
        "    plt.plot(range(1, num_epochs + 1), train_losses, marker='o')\n",
        "    plt.title('Training Loss over Epochs')\n",
        "    plt.xlabel('Epoch')\n",
        "    plt.ylabel('Loss')\n",
        "    plt.grid()\n",
        "    plt.show()\n",
        "\n",
        "    torch.save(model.state_dict(), 'siamese_network_model.pth')\n"
      ],
      "metadata": {
        "execution": {
          "iopub.status.busy": "2024-10-04T12:24:25.175414Z",
          "iopub.execute_input": "2024-10-04T12:24:25.175784Z",
          "iopub.status.idle": "2024-10-04T12:24:25.188196Z",
          "shell.execute_reply.started": "2024-10-04T12:24:25.175749Z",
          "shell.execute_reply": "2024-10-04T12:24:25.187226Z"
        },
        "trusted": true,
        "id": "o6uPklpAf3G1"
      },
      "execution_count": null,
      "outputs": []
    },
    {
      "cell_type": "code",
      "source": [
        "transform = transforms.Compose([\n",
        "        transforms.Resize((100, 100)),\n",
        "        transforms.ToTensor(),\n",
        "    ])\n",
        "\n",
        "\n",
        "dataset = SiameseDataset(pairs, transform=transform)\n",
        "train_loader = DataLoader(dataset, batch_size=32, shuffle=True)\n",
        "\n",
        "model = SiameseNetwork()\n",
        "train_siamese_network(model, train_loader)"
      ],
      "metadata": {
        "execution": {
          "iopub.status.busy": "2024-10-04T12:24:25.189279Z",
          "iopub.execute_input": "2024-10-04T12:24:25.189720Z",
          "iopub.status.idle": "2024-10-04T13:33:28.209115Z",
          "shell.execute_reply.started": "2024-10-04T12:24:25.189675Z",
          "shell.execute_reply": "2024-10-04T13:33:28.208276Z"
        },
        "trusted": true,
        "id": "gaaXxuLNf3G1",
        "outputId": "c1a1faca-b334-4af7-c7cf-f7f8a90fdbc8"
      },
      "execution_count": null,
      "outputs": [
        {
          "name": "stdout",
          "text": "Epoch [1/20], Loss: 1.0857\nLearning rate after epoch 1: 0.000100\nEpoch [2/20], Loss: 1.0500\nLearning rate after epoch 2: 0.000100\nEpoch [3/20], Loss: 1.0320\nLearning rate after epoch 3: 0.000100\nEpoch [4/20], Loss: 1.0304\nLearning rate after epoch 4: 0.000100\nEpoch [5/20], Loss: 1.0250\nLearning rate after epoch 5: 0.000100\nEpoch [6/20], Loss: 1.0261\nLearning rate after epoch 6: 0.000100\nEpoch [7/20], Loss: 1.0225\nLearning rate after epoch 7: 0.000100\nEpoch [8/20], Loss: 1.0211\nLearning rate after epoch 8: 0.000100\nEpoch [9/20], Loss: 1.0217\nLearning rate after epoch 9: 0.000100\nEpoch [10/20], Loss: 1.0215\nLearning rate after epoch 10: 0.000100\nEpoch [11/20], Loss: 1.0167\nLearning rate after epoch 11: 0.000100\nEpoch [12/20], Loss: 1.0230\nLearning rate after epoch 12: 0.000100\nEpoch [13/20], Loss: 1.0189\nLearning rate after epoch 13: 0.000100\nEpoch [14/20], Loss: 1.0159\nLearning rate after epoch 14: 0.000100\nEpoch [15/20], Loss: 1.0161\nLearning rate after epoch 15: 0.000100\nEpoch [16/20], Loss: 1.0158\nLearning rate after epoch 16: 0.000100\nEpoch [17/20], Loss: 1.0167\nLearning rate after epoch 17: 0.000050\nEpoch [18/20], Loss: 1.0102\nLearning rate after epoch 18: 0.000050\nEpoch [19/20], Loss: 1.0103\nLearning rate after epoch 19: 0.000050\nEpoch [20/20], Loss: 1.0095\nLearning rate after epoch 20: 0.000050\n",
          "output_type": "stream"
        },
        {
          "output_type": "display_data",
          "data": {
            "text/plain": "<Figure size 1000x500 with 1 Axes>",
            "image/png": "[encoded data removed]"
          },
          "metadata": {}
        }
      ]
    },
    {
      "cell_type": "code",
      "source": [
        "def process_frames(frame_folder, transform):\n",
        "    frames = []\n",
        "    for frame_name in sorted(os.listdir(frame_folder)):\n",
        "        frame_path = os.path.join(frame_folder, frame_name)\n",
        "        image = Image.open(frame_path).convert('RGB')\n",
        "        frames.append(transform(image))\n",
        "    return torch.stack(frames)"
      ],
      "metadata": {
        "execution": {
          "iopub.status.busy": "2024-10-04T13:33:28.210405Z",
          "iopub.execute_input": "2024-10-04T13:33:28.210767Z",
          "iopub.status.idle": "2024-10-04T13:33:28.216349Z",
          "shell.execute_reply.started": "2024-10-04T13:33:28.210730Z",
          "shell.execute_reply": "2024-10-04T13:33:28.215536Z"
        },
        "trusted": true,
        "id": "WmaNPR1Zf3G2"
      },
      "execution_count": null,
      "outputs": []
    },
    {
      "cell_type": "code",
      "source": [
        "device = torch.device(\"cuda\" if torch.cuda.is_available() else \"cpu\")\n",
        "model = model.to(device)\n",
        "support_base_path = '/kaggle/input/few-shot-video-classification/Few Shot video classification/Test/Support-set'\n",
        "support_set = []\n",
        "\n",
        "for label in range(4):\n",
        "    label_path = os.path.join(support_base_path, str(label))\n",
        "    video_files = [f for f in os.listdir(label_path) if f.endswith(('.mp4', '.avi', '.mov'))]\n",
        "    if video_files:\n",
        "        video_path = os.path.join(label_path, video_files[0])\n",
        "\n",
        "\n",
        "        support_output_folder = f'./support_frames/label_{label}'\n",
        "        extract_frames_from_video(video_path, support_output_folder)\n",
        "\n",
        "        support_frames = process_frames(support_output_folder, transform)\n",
        "        support_frames = support_frames.to(device)\n",
        "        with torch.no_grad():\n",
        "            support_embedding = model.forward_one(support_frames).mean(dim=0)  # Average frame embeddings\n",
        "        support_set.append((support_embedding, label))\n",
        "\n",
        "query_base_path = \"/kaggle/input/few-shot-video-classification/Few Shot video classification/Test/Query\"\n",
        "query_predictions = []\n",
        "\n",
        "for query_video_name in os.listdir(query_base_path):\n",
        "    if query_video_name.endswith(('.mp4', '.avi', '.mov')):\n",
        "        query_video_path = os.path.join(query_base_path, query_video_name)\n",
        "\n",
        "        query_output_folder = f'./query_frames/{query_video_name.split(\".\")[0]}'\n",
        "        extract_frames_from_video(query_video_path, query_output_folder)\n",
        "\n",
        "        query_frames = process_frames(query_output_folder, transform)\n",
        "        query_frames = query_frames.to(device)\n",
        "        with torch.no_grad():\n",
        "            query_embedding = model.forward_one(query_frames).mean(dim=0)\n",
        "\n",
        "        distances = []\n",
        "        for support_embedding, label in support_set:\n",
        "            distance = F.pairwise_distance(query_embedding.unsqueeze(0), support_embedding.unsqueeze(0))\n",
        "            distances.append((distance.item(), label))\n",
        "\n",
        "        # Find the closest support video\n",
        "        predicted_label = min(distances, key=lambda x: x[0])[1]\n",
        "        query_predictions.append((query_video_name, predicted_label))\n",
        "\n",
        "# Save predictions to CSV file\n",
        "df = pd.DataFrame(query_predictions, columns=[\"Video\", \"Predicted Label\"])\n",
        "df.to_csv(\"submission.csv\", index=False)\n",
        "\n",
        "print(\"Predictions saved to submission.csv\")"
      ],
      "metadata": {
        "execution": {
          "iopub.status.busy": "2024-10-04T13:33:28.217354Z",
          "iopub.execute_input": "2024-10-04T13:33:28.217630Z",
          "iopub.status.idle": "2024-10-04T13:37:25.492994Z",
          "shell.execute_reply.started": "2024-10-04T13:33:28.217599Z",
          "shell.execute_reply": "2024-10-04T13:37:25.491976Z"
        },
        "trusted": true,
        "id": "2xr24-TYf3G3",
        "outputId": "84e8804e-0edd-4a96-b532-e96e9399fae4"
      },
      "execution_count": null,
      "outputs": [
        {
          "name": "stdout",
          "text": "Processed clip1.mov: 176 frames saved.\nProcessed clip1.mov: 225 frames saved.\nProcessed clip1.mov: 182 frames saved.\nProcessed clip1.mov: 226 frames saved.\nProcessed clip_668.mp4: 49 frames saved.\nProcessed clip_40.mp4: 25 frames saved.\nProcessed clip_633.mp4: 49 frames saved.\nProcessed clip_851.mp4: 49 frames saved.\nProcessed clip_729.mp4: 25 frames saved.\nProcessed clip_883.mp4: 25 frames saved.\nProcessed clip_196.mp4: 49 frames saved.\nProcessed clip_278.mp4: 49 frames saved.\nProcessed clip_554.mp4: 49 frames saved.\nProcessed clip_926.mp4: 49 frames saved.\nProcessed clip_931.mp4: 49 frames saved.\nProcessed clip_537.mp4: 25 frames saved.\nProcessed clip_929.mp4: 25 frames saved.\nProcessed clip_624.mp4: 49 frames saved.\nProcessed clip_864.mp4: 49 frames saved.\nProcessed clip_584.mp4: 25 frames saved.\nProcessed clip_244.mp4: 49 frames saved.\nProcessed clip_22.mp4: 49 frames saved.\nProcessed clip_276.mp4: 49 frames saved.\nProcessed clip_868.mp4: 49 frames saved.\nProcessed clip_349.mp4: 49 frames saved.\nProcessed clip_908.mp4: 25 frames saved.\nProcessed clip_761.mp4: 49 frames saved.\nProcessed clip_521.mp4: 25 frames saved.\nProcessed clip_192.mp4: 49 frames saved.\nProcessed clip_307.mp4: 25 frames saved.\nProcessed clip_303.mp4: 49 frames saved.\nProcessed clip_550.mp4: 25 frames saved.\nProcessed clip_966.mp4: 49 frames saved.\nProcessed clip_256.mp4: 49 frames saved.\nProcessed clip_202.mp4: 49 frames saved.\nProcessed clip_127.mp4: 49 frames saved.\nProcessed clip_757.mp4: 49 frames saved.\nProcessed clip_906.mp4: 49 frames saved.\nProcessed clip_403.mp4: 49 frames saved.\nProcessed clip_919.mp4: 25 frames saved.\nProcessed clip_771.mp4: 49 frames saved.\nProcessed clip_375.mp4: 49 frames saved.\nProcessed clip_468.mp4: 49 frames saved.\nProcessed clip_361.mp4: 25 frames saved.\nProcessed clip_265.mp4: 49 frames saved.\nProcessed clip_964.mp4: 49 frames saved.\nProcessed clip_877.mp4: 25 frames saved.\nProcessed clip_819.mp4: 25 frames saved.\nProcessed clip_572.mp4: 25 frames saved.\nProcessed clip_85.mp4: 49 frames saved.\nProcessed clip_372.mp4: 25 frames saved.\nProcessed clip_236.mp4: 25 frames saved.\nProcessed clip_324.mp4: 25 frames saved.\nProcessed clip_318.mp4: 49 frames saved.\nProcessed clip_334.mp4: 49 frames saved.\nProcessed clip_575.mp4: 49 frames saved.\nProcessed clip_79.mp4: 49 frames saved.\nProcessed clip_183.mp4: 49 frames saved.\nProcessed clip_238.mp4: 25 frames saved.\nProcessed clip_731.mp4: 25 frames saved.\nProcessed clip_900.mp4: 25 frames saved.\nProcessed clip_630.mp4: 25 frames saved.\nProcessed clip_622.mp4: 49 frames saved.\nProcessed clip_253.mp4: 49 frames saved.\nProcessed clip_98.mp4: 25 frames saved.\nProcessed clip_94.mp4: 25 frames saved.\nProcessed clip_982.mp4: 25 frames saved.\nProcessed clip_259.mp4: 25 frames saved.\nProcessed clip_826.mp4: 49 frames saved.\nProcessed clip_684.mp4: 49 frames saved.\nProcessed clip_556.mp4: 25 frames saved.\nProcessed clip_207.mp4: 49 frames saved.\nProcessed clip_779.mp4: 49 frames saved.\nProcessed clip_255.mp4: 25 frames saved.\nProcessed clip_75.mp4: 49 frames saved.\nProcessed clip_760.mp4: 25 frames saved.\nProcessed clip_692.mp4: 49 frames saved.\nProcessed clip_986.mp4: 49 frames saved.\nProcessed clip_457.mp4: 25 frames saved.\nProcessed clip_416.mp4: 49 frames saved.\nProcessed clip_693.mp4: 49 frames saved.\nProcessed clip_804.mp4: 49 frames saved.\nProcessed clip_800.mp4: 49 frames saved.\nProcessed clip_418.mp4: 49 frames saved.\nProcessed clip_942.mp4: 25 frames saved.\nProcessed clip_524.mp4: 25 frames saved.\nProcessed clip_649.mp4: 49 frames saved.\nProcessed clip_840.mp4: 49 frames saved.\nProcessed clip_860.mp4: 25 frames saved.\nProcessed clip_228.mp4: 49 frames saved.\nProcessed clip_616.mp4: 49 frames saved.\nProcessed clip_811.mp4: 25 frames saved.\nProcessed clip_198.mp4: 25 frames saved.\nProcessed clip_351.mp4: 49 frames saved.\nProcessed clip_690.mp4: 49 frames saved.\nProcessed clip_566.mp4: 49 frames saved.\nProcessed clip_643.mp4: 25 frames saved.\nProcessed clip_689.mp4: 25 frames saved.\nProcessed clip_650.mp4: 49 frames saved.\nProcessed clip_526.mp4: 49 frames saved.\nProcessed clip_495.mp4: 25 frames saved.\nProcessed clip_815.mp4: 49 frames saved.\nProcessed clip_118.mp4: 25 frames saved.\nProcessed clip_116.mp4: 25 frames saved.\nProcessed clip_201.mp4: 25 frames saved.\nProcessed clip_305.mp4: 49 frames saved.\nProcessed clip_411.mp4: 25 frames saved.\nProcessed clip_595.mp4: 25 frames saved.\nProcessed clip_958.mp4: 25 frames saved.\nProcessed clip_829.mp4: 49 frames saved.\nProcessed clip_603.mp4: 25 frames saved.\nProcessed clip_373.mp4: 49 frames saved.\nProcessed clip_13.mp4: 49 frames saved.\nProcessed clip_717.mp4: 49 frames saved.\nProcessed clip_443.mp4: 25 frames saved.\nProcessed clip_247.mp4: 25 frames saved.\nProcessed clip_429.mp4: 49 frames saved.\nProcessed clip_76.mp4: 25 frames saved.\nProcessed clip_251.mp4: 25 frames saved.\nProcessed clip_814.mp4: 25 frames saved.\nProcessed clip_33.mp4: 49 frames saved.\nProcessed clip_773.mp4: 25 frames saved.\nProcessed clip_179.mp4: 25 frames saved.\nProcessed clip_792.mp4: 49 frames saved.\nProcessed clip_896.mp4: 25 frames saved.\nProcessed clip_727.mp4: 49 frames saved.\nProcessed clip_534.mp4: 49 frames saved.\nProcessed clip_488.mp4: 25 frames saved.\nProcessed clip_873.mp4: 49 frames saved.\nProcessed clip_716.mp4: 49 frames saved.\nProcessed clip_665.mp4: 25 frames saved.\nProcessed clip_959.mp4: 25 frames saved.\nProcessed clip_415.mp4: 25 frames saved.\nProcessed clip_424.mp4: 25 frames saved.\nProcessed clip_522.mp4: 25 frames saved.\nProcessed clip_219.mp4: 49 frames saved.\nProcessed clip_452.mp4: 25 frames saved.\nProcessed clip_853.mp4: 49 frames saved.\nProcessed clip_732.mp4: 25 frames saved.\nProcessed clip_910.mp4: 25 frames saved.\nProcessed clip_726.mp4: 25 frames saved.\nProcessed clip_530.mp4: 49 frames saved.\nProcessed clip_184.mp4: 25 frames saved.\nProcessed clip_812.mp4: 49 frames saved.\nProcessed clip_453.mp4: 49 frames saved.\nProcessed clip_165.mp4: 49 frames saved.\nProcessed clip_627.mp4: 49 frames saved.\nProcessed clip_381.mp4: 25 frames saved.\nProcessed clip_510.mp4: 25 frames saved.\nProcessed clip_832.mp4: 25 frames saved.\nProcessed clip_4.mp4: 49 frames saved.\nProcessed clip_243.mp4: 24 frames saved.\nProcessed clip_839.mp4: 25 frames saved.\nProcessed clip_928.mp4: 49 frames saved.\nProcessed clip_52.mp4: 25 frames saved.\nProcessed clip_91.mp4: 25 frames saved.\nProcessed clip_960.mp4: 49 frames saved.\nProcessed clip_786.mp4: 25 frames saved.\nProcessed clip_634.mp4: 25 frames saved.\nProcessed clip_16.mp4: 25 frames saved.\nProcessed clip_420.mp4: 49 frames saved.\nProcessed clip_499.mp4: 49 frames saved.\nProcessed clip_51.mp4: 49 frames saved.\nProcessed clip_25.mp4: 25 frames saved.\nProcessed clip_621.mp4: 49 frames saved.\nProcessed clip_200.mp4: 49 frames saved.\nProcessed clip_433.mp4: 49 frames saved.\nProcessed clip_898.mp4: 25 frames saved.\nProcessed clip_802.mp4: 25 frames saved.\nProcessed clip_262.mp4: 49 frames saved.\nProcessed clip_412.mp4: 25 frames saved.\nProcessed clip_285.mp4: 25 frames saved.\nProcessed clip_978.mp4: 25 frames saved.\nProcessed clip_861.mp4: 49 frames saved.\nProcessed clip_516.mp4: 49 frames saved.\nProcessed clip_309.mp4: 49 frames saved.\nProcessed clip_218.mp4: 25 frames saved.\nProcessed clip_845.mp4: 49 frames saved.\nProcessed clip_944.mp4: 25 frames saved.\nProcessed clip_358.mp4: 25 frames saved.\nProcessed clip_496.mp4: 25 frames saved.\nProcessed clip_899.mp4: 49 frames saved.\nProcessed clip_888.mp4: 49 frames saved.\nProcessed clip_347.mp4: 25 frames saved.\nProcessed clip_28.mp4: 49 frames saved.\nProcessed clip_820.mp4: 49 frames saved.\nProcessed clip_838.mp4: 49 frames saved.\nProcessed clip_715.mp4: 25 frames saved.\nProcessed clip_889.mp4: 49 frames saved.\nProcessed clip_730.mp4: 49 frames saved.\nProcessed clip_413.mp4: 49 frames saved.\nProcessed clip_535.mp4: 49 frames saved.\nProcessed clip_283.mp4: 49 frames saved.\nProcessed clip_841.mp4: 49 frames saved.\nProcessed clip_933.mp4: 25 frames saved.\nProcessed clip_377.mp4: 25 frames saved.\nProcessed clip_547.mp4: 25 frames saved.\nProcessed clip_532.mp4: 25 frames saved.\nProcessed clip_920.mp4: 25 frames saved.\nProcessed clip_502.mp4: 49 frames saved.\nProcessed clip_687.mp4: 25 frames saved.\nProcessed clip_541.mp4: 49 frames saved.\nProcessed clip_371.mp4: 25 frames saved.\nProcessed clip_777.mp4: 49 frames saved.\nProcessed clip_364.mp4: 25 frames saved.\nProcessed clip_435.mp4: 25 frames saved.\nProcessed clip_448.mp4: 49 frames saved.\nProcessed clip_230.mp4: 49 frames saved.\nProcessed clip_917.mp4: 49 frames saved.\nProcessed clip_270.mp4: 49 frames saved.\nProcessed clip_573.mp4: 25 frames saved.\nProcessed clip_470.mp4: 25 frames saved.\nProcessed clip_288.mp4: 49 frames saved.\nProcessed clip_625.mp4: 49 frames saved.\nProcessed clip_250.mp4: 49 frames saved.\nProcessed clip_975.mp4: 49 frames saved.\nProcessed clip_95.mp4: 25 frames saved.\nProcessed clip_12.mp4: 49 frames saved.\nProcessed clip_235.mp4: 49 frames saved.\nProcessed clip_836.mp4: 25 frames saved.\nProcessed clip_863.mp4: 49 frames saved.\nProcessed clip_461.mp4: 49 frames saved.\nProcessed clip_237.mp4: 49 frames saved.\nProcessed clip_869.mp4: 49 frames saved.\nProcessed clip_455.mp4: 25 frames saved.\nProcessed clip_404.mp4: 49 frames saved.\nProcessed clip_874.mp4: 25 frames saved.\nProcessed clip_267.mp4: 49 frames saved.\nProcessed clip_718.mp4: 49 frames saved.\nProcessed clip_583.mp4: 49 frames saved.\nProcessed clip_647.mp4: 49 frames saved.\nProcessed clip_8.mp4: 25 frames saved.\nProcessed clip_142.mp4: 25 frames saved.\nProcessed clip_166.mp4: 49 frames saved.\nPredictions saved to submission.csv\n",
          "output_type": "stream"
        }
      ]
    },
    {
      "cell_type": "code",
      "source": [
        "df = pd.read_csv('/kaggle/working/submission.csv')"
      ],
      "metadata": {
        "execution": {
          "iopub.status.busy": "2024-10-04T13:37:25.494256Z",
          "iopub.execute_input": "2024-10-04T13:37:25.495000Z",
          "iopub.status.idle": "2024-10-04T13:37:25.504314Z",
          "shell.execute_reply.started": "2024-10-04T13:37:25.494953Z",
          "shell.execute_reply": "2024-10-04T13:37:25.503390Z"
        },
        "trusted": true,
        "id": "c-7fDluff3G4"
      },
      "execution_count": null,
      "outputs": []
    },
    {
      "cell_type": "code",
      "source": [
        "df = df.rename(columns={'Video': 'VID_ID', 'Predicted Class': 'LABEL'})\n",
        "df['VID_ID'] = df['VID_ID'].str.extract(r'clip_(\\d+)\\.mp4').astype(int)\n",
        "df.to_csv('/kaggle/working/00001_20ep_fluc.csv', index=False)"
      ],
      "metadata": {
        "execution": {
          "iopub.status.busy": "2024-10-04T13:37:25.505672Z",
          "iopub.execute_input": "2024-10-04T13:37:25.506305Z",
          "iopub.status.idle": "2024-10-04T13:37:25.527437Z",
          "shell.execute_reply.started": "2024-10-04T13:37:25.506262Z",
          "shell.execute_reply": "2024-10-04T13:37:25.526684Z"
        },
        "trusted": true,
        "id": "TWylSFOQf3G5"
      },
      "execution_count": null,
      "outputs": []
    },
    {
      "cell_type": "code",
      "source": [
        "df"
      ],
      "metadata": {
        "execution": {
          "iopub.status.busy": "2024-10-04T13:37:25.528443Z",
          "iopub.execute_input": "2024-10-04T13:37:25.528762Z",
          "iopub.status.idle": "2024-10-04T13:37:25.550962Z",
          "shell.execute_reply.started": "2024-10-04T13:37:25.528726Z",
          "shell.execute_reply": "2024-10-04T13:37:25.550130Z"
        },
        "trusted": true,
        "id": "QxeW71Ogf3G5",
        "outputId": "7bf4388f-f999-4bb5-f75d-c5a662dc2d5c"
      },
      "execution_count": null,
      "outputs": [
        {
          "execution_count": 21,
          "output_type": "execute_result",
          "data": {
            "text/plain": "     VID_ID  Predicted Label\n0       668                1\n1        40                2\n2       633                1\n3       851                2\n4       729                2\n..      ...              ...\n225     583                2\n226     647                2\n227       8                2\n228     142                2\n229     166                1\n\n[230 rows x 2 columns]",
            "text/html": "<div>\n<style scoped>\n    .dataframe tbody tr th:only-of-type {\n        vertical-align: middle;\n    }\n\n    .dataframe tbody tr th {\n        vertical-align: top;\n    }\n\n    .dataframe thead th {\n        text-align: right;\n    }\n</style>\n<table border=\"1\" class=\"dataframe\">\n  <thead>\n    <tr style=\"text-align: right;\">\n      <th></th>\n      <th>VID_ID</th>\n      <th>Predicted Label</th>\n    </tr>\n  </thead>\n  <tbody>\n    <tr>\n      <th>0</th>\n      <td>668</td>\n      <td>1</td>\n    </tr>\n    <tr>\n      <th>1</th>\n      <td>40</td>\n      <td>2</td>\n    </tr>\n    <tr>\n      <th>2</th>\n      <td>633</td>\n      <td>1</td>\n    </tr>\n    <tr>\n      <th>3</th>\n      <td>851</td>\n      <td>2</td>\n    </tr>\n    <tr>\n      <th>4</th>\n      <td>729</td>\n      <td>2</td>\n    </tr>\n    <tr>\n      <th>...</th>\n      <td>...</td>\n      <td>...</td>\n    </tr>\n    <tr>\n      <th>225</th>\n      <td>583</td>\n      <td>2</td>\n    </tr>\n    <tr>\n      <th>226</th>\n      <td>647</td>\n      <td>2</td>\n    </tr>\n    <tr>\n      <th>227</th>\n      <td>8</td>\n      <td>2</td>\n    </tr>\n    <tr>\n      <th>228</th>\n      <td>142</td>\n      <td>2</td>\n    </tr>\n    <tr>\n      <th>229</th>\n      <td>166</td>\n      <td>1</td>\n    </tr>\n  </tbody>\n</table>\n<p>230 rows × 2 columns</p>\n</div>"
          },
          "metadata": {}
        }
      ]
    },
    {
      "cell_type": "code",
      "source": [],
      "metadata": {
        "id": "A_-3DIWnf3G5"
      },
      "execution_count": null,
      "outputs": []
    }
  ]
}